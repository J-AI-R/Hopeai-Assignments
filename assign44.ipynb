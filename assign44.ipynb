{
 "cells": [
  {
   "cell_type": "code",
   "execution_count": 3,
   "id": "959d8ae8-2673-4c91-ac43-19f4f75e38c4",
   "metadata": {},
   "outputs": [],
   "source": [
    "import pandas as pd\n",
    "dataset = pd.read_csv(\"insurance_pre.csv\")\n",
    "dataset = pd.get_dummies(dataset, drop_first = True) # categorical data\n",
    "# age\tbmi\tchildren\tcharges\tsex_male\tsmoker_yes"
   ]
  },
  {
   "cell_type": "code",
   "execution_count": 4,
   "id": "f647b74f-2bb5-496f-a7fb-a428cc6e1908",
   "metadata": {},
   "outputs": [],
   "source": [
    "independent = dataset[['age', 'bmi', 'children', 'sex_male', 'smoker_yes']]\n",
    "dependent = dataset [['charges']]\n",
    "from sklearn.model_selection import train_test_split\n",
    "x_train, x_test, y_train, y_test = train_test_split(independent, dependent, test_size = 0.30, random_state = 0)"
   ]
  },
  {
   "cell_type": "code",
   "execution_count": 14,
   "id": "5ead82c9-9708-4040-a57d-bb501f215b21",
   "metadata": {},
   "outputs": [],
   "source": [
    "# Support vector machine\n",
    "# from sklearn.preprocessing import StandardScaler\n",
    "# sc = StandardScaler()\n",
    "# x_train = sc.fit_transform(x_train)  \n",
    "# x_test = sc.transform(x_test) \n",
    "\n",
    "# from sklearn.svm import SVR\n",
    "# regressor = SVR(kernel = \"linear\", C = 100.0)  \n"
   ]
  },
  {
   "cell_type": "code",
   "execution_count": 30,
   "id": "3479d23f-21a9-42ef-8e3a-97dc4b0ed6af",
   "metadata": {},
   "outputs": [],
   "source": [
    "# Decision tree\n",
    "# from sklearn.tree import DecisionTreeRegressor\n",
    "# regressor = DecisionTreeRegressor(criterion='poisson', splitter='best')"
   ]
  },
  {
   "cell_type": "code",
   "execution_count": 34,
   "id": "41830b39-aa6f-416d-9fcb-32eacaca6dd2",
   "metadata": {},
   "outputs": [],
   "source": [
    "# Random forest\n",
    "from sklearn.ensemble import RandomForestRegressor\n",
    "regressor = RandomForestRegressor(n_estimators = 100, random_state = 0)"
   ]
  },
  {
   "cell_type": "code",
   "execution_count": 35,
   "id": "c55b4f1e-f3fd-4ffe-b40f-45f9c15f1650",
   "metadata": {},
   "outputs": [
    {
     "name": "stderr",
     "output_type": "stream",
     "text": [
      "C:\\Users\\Jai_Raj\\AppData\\Local\\Programs\\Python\\Python313\\Lib\\site-packages\\sklearn\\base.py:1389: DataConversionWarning: A column-vector y was passed when a 1d array was expected. Please change the shape of y to (n_samples,), for example using ravel().\n",
      "  return fit_method(estimator, *args, **kwargs)\n"
     ]
    },
    {
     "data": {
      "text/plain": [
       "0.8549545291428322"
      ]
     },
     "execution_count": 35,
     "metadata": {},
     "output_type": "execute_result"
    }
   ],
   "source": [
    "regressor.fit(x_train, y_train)\n",
    "y_predict = regressor.predict(x_test)\n",
    "from sklearn.metrics import r2_score\n",
    "r_score = r2_score(y_test, y_predict)\n",
    "r_score"
   ]
  },
  {
   "cell_type": "code",
   "execution_count": null,
   "id": "70022b9f-3db8-4e68-9ffc-2d05b7fe9729",
   "metadata": {},
   "outputs": [],
   "source": []
  }
 ],
 "metadata": {
  "kernelspec": {
   "display_name": "Python 3 (ipykernel)",
   "language": "python",
   "name": "python3"
  },
  "language_info": {
   "codemirror_mode": {
    "name": "ipython",
    "version": 3
   },
   "file_extension": ".py",
   "mimetype": "text/x-python",
   "name": "python",
   "nbconvert_exporter": "python",
   "pygments_lexer": "ipython3",
   "version": "3.13.2"
  }
 },
 "nbformat": 4,
 "nbformat_minor": 5
}
